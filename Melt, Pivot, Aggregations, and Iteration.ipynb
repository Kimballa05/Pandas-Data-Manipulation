{
 "cells": [
  {
   "cell_type": "code",
   "execution_count": 1,
   "id": "f84b817e",
   "metadata": {},
   "outputs": [],
   "source": [
    "#%%Libraries\n",
    "#Be sure to run this cell so that everything is imported and variables are defined\n",
    "import pandas as pd\n",
    "import matplotlib.pyplot as plt \n",
    "import numpy as np\n",
    "\n",
    "#%%Import\n",
    "\n",
    "diabetic_data = pd.read_csv('diabetic_data.csv')\n",
    "#diabetic_data.head(20)\n",
    "\n"
   ]
  },
  {
   "cell_type": "code",
   "execution_count": 29,
   "id": "332294ae",
   "metadata": {},
   "outputs": [
    {
     "name": "stdout",
     "output_type": "stream",
     "text": [
      "diabetesMed         No        Yes\n",
      "age                              \n",
      "[0-10)       33.464286  42.601504\n",
      "[10-20)      39.373626  43.661667\n",
      "[20-30)      38.722222  44.196198\n",
      "[30-40)      40.069114  43.997192\n",
      "[40-50)      41.552632  43.165699\n",
      "[50-60)      41.089235  43.049996\n",
      "[60-70)      41.245690  42.975470\n",
      "[70-80)      42.171176  43.444455\n",
      "[80-90)      43.431006  44.301920\n",
      "[90-100)     44.597173  44.738169\n"
     ]
    }
   ],
   "source": [
    "#Pivot function\n",
    "\n",
    "#Indicates the integer location of the columns desired for data manipulation\n",
    "cols = [0,1,2,3,4,5,11,12,41,48]\n",
    "\n",
    "#Shortening the diabetic data df to only have certain columns for ease.\n",
    "shortened_diabetic_data = diabetic_data[diabetic_data.columns[cols]]\n",
    "\n",
    "#Creates a pivot table with a mean aggregate function. The data is pivoted so that age range is the index and \n",
    "#whether they are taking diabetes medication are the columns. The values being calculated are the average number of\n",
    "#lab procedures for each category. Regular pivot function wouldn't work as there are many duplicates in this dataset.\n",
    "\n",
    "print(shortened_diabetic_data.pivot_table(index= 'age', columns='diabetesMed', values='num_lab_procedures' , aggfunc='mean'))"
   ]
  },
  {
   "cell_type": "code",
   "execution_count": 30,
   "id": "ed4db73f",
   "metadata": {},
   "outputs": [
    {
     "name": "stdout",
     "output_type": "stream",
     "text": [
      "        patient_nbr          Patient ID  Lab procedures\n",
      "0           8222157  num_lab_procedures              41\n",
      "1          55629189  num_lab_procedures              59\n",
      "2          86047875  num_lab_procedures              11\n",
      "3          82442376  num_lab_procedures              44\n",
      "4          42519267  num_lab_procedures              51\n",
      "...             ...                 ...             ...\n",
      "101761    100162476  num_lab_procedures              51\n",
      "101762     74694222  num_lab_procedures              33\n",
      "101763     41088789  num_lab_procedures              53\n",
      "101764     31693671  num_lab_procedures              45\n",
      "101765    175429310  num_lab_procedures              13\n",
      "\n",
      "[101766 rows x 3 columns]\n"
     ]
    }
   ],
   "source": [
    "#Melt function\n",
    "\n",
    "#Indicates the integer location of the columns desired for data manipulation\n",
    "cols = [0,1,2,3,4,5,11,12,41,48]\n",
    "\n",
    "#Shortening the diabetic data df to only have certain columns for ease.\n",
    "shortened_diabetic_data = diabetic_data[diabetic_data.columns[cols]]\n",
    "\n",
    "#Melt function condenses the dataset so that you get the patient ID and the number of lab procedures they had.\n",
    "df_melt = pd.melt(shortened_diabetic_data, id_vars='patient_nbr',value_vars='num_lab_procedures', var_name='Patient ID',value_name='Lab procedures')\n",
    "\n",
    "print(df_melt)\n"
   ]
  },
  {
   "cell_type": "code",
   "execution_count": 31,
   "id": "d3ecf466",
   "metadata": {},
   "outputs": [
    {
     "name": "stdout",
     "output_type": "stream",
     "text": [
      "      num_lab_procedures  num_medications  number_diagnoses\n",
      "mean           43.095641        16.021844          7.422607\n",
      "min             1.000000         1.000000          1.000000\n",
      "max           132.000000        81.000000         16.000000\n"
     ]
    }
   ],
   "source": [
    "#Aggregation \n",
    "\n",
    "\n",
    "#Indicates the integer location of the columns desired for data manipulation\n",
    "cols = [0,1,2,3,4,5,11,12,14,21,41,48]\n",
    "\n",
    "#Shortening the diabetic data df to only have certain columns for ease.\n",
    "shortened_diabetic_data2 = diabetic_data[diabetic_data.columns[cols]]\n",
    "\n",
    "#Aggregate function gives some aggregate data (mean, minimum value, and maximum value) for the 3 \n",
    "#columns given as a dictionary.\n",
    "print(shortened_diabetic_data2.aggregate({\"num_lab_procedures\":['mean','min','max'], \n",
    "                                    \"num_medications\":['mean','min','max'],\n",
    "                                    \"number_diagnoses\":['mean','min','max']}))"
   ]
  },
  {
   "cell_type": "code",
   "execution_count": 26,
   "id": "6d489393",
   "metadata": {},
   "outputs": [
    {
     "name": "stdout",
     "output_type": "stream",
     "text": [
      "8222157 1\n",
      "55629189 18\n",
      "86047875 13\n",
      "82442376 16\n",
      "42519267 8\n",
      "82637451 16\n",
      "84259809 21\n",
      "114882984 12\n",
      "48330783 28\n",
      "63555939 18\n",
      "89869032 17\n",
      "77391171 11\n",
      "85504905 15\n",
      "77586282 31\n",
      "49726791 2\n",
      "86328819 13\n",
      "92519352 17\n",
      "108662661 11\n",
      "107389323 23\n",
      "69422211 23\n",
      "22864131 19\n",
      "21239181 11\n",
      "63000108 12\n",
      "107400762 19\n",
      "62718876 18\n",
      "21861756 7\n",
      "40523301 18\n",
      "115196778 11\n",
      "41606064 20\n",
      "18196434 14\n",
      "56480238 18\n",
      "96664626 10\n",
      "80845353 16\n",
      "114715242 18\n",
      "3327282 20\n",
      "63023292 11\n",
      "98427861 8\n",
      "112002975 12\n",
      "101002446 22\n",
      "104672268 15\n",
      "80588529 15\n",
      "99715041 9\n",
      "96435585 18\n",
      "66274866 11\n",
      "80177094 27\n",
      "106936875 8\n",
      "86240259 16\n",
      "51838164 12\n",
      "90097839 19\n",
      "34997814 25\n",
      "21820806 14\n"
     ]
    }
   ],
   "source": [
    "#Iteration\n",
    "\n",
    "#Indicates the integer location of the columns desired for data manipulation\n",
    "cols = [0,1,2,3,4,5,11,12,14,21,41,48]\n",
    "\n",
    "#Shortening the diabetic data df to only have certain columns for ease.\n",
    "shortened_diabetic_data2 = diabetic_data[diabetic_data.columns[cols]]\n",
    "\n",
    "\n",
    "#Iteration method is iterating the rows (up to index 50) and printing the patient ID number and number of \n",
    "#medications for each patient\n",
    "for index, row in shortened_diabetic_data2.iterrows():\n",
    "    if index <= 50:\n",
    "        print(row[\"patient_nbr\"],row[\"num_medications\"]) \n",
    "        "
   ]
  },
  {
   "cell_type": "code",
   "execution_count": 32,
   "id": "7e699571",
   "metadata": {},
   "outputs": [
    {
     "name": "stdout",
     "output_type": "stream",
     "text": [
      "          num_lab_procedures  num_medications  number_diagnoses\n",
      "age                                                            \n",
      "[0-10)             41.012422         6.180124          2.695652\n",
      "[10-20)            43.096961         8.277858          3.947902\n",
      "[20-30)            43.066385        11.972842          5.866626\n",
      "[30-40)            43.033642        14.091656          6.452980\n",
      "[40-50)            42.785958        15.391017          6.948787\n",
      "[50-60)            42.611961        16.584492          7.238584\n",
      "[60-70)            42.600632        17.150425          7.506427\n",
      "[70-80)            43.157396        16.407818          7.651795\n",
      "[80-90)            44.085015        15.326685          7.888702\n",
      "[90-100)           44.695310        13.820265          7.884712\n"
     ]
    }
   ],
   "source": [
    "#GroupBy\n",
    "\n",
    "#Indicates the integer location of the columns desired for data manipulation\n",
    "cols = [2,3,4,5,11,12,14,21,41,48]\n",
    "\n",
    "#Shortening the diabetic data df to only have certain columns for ease.\n",
    "shortened_diabetic_data3 = diabetic_data[diabetic_data.columns[cols]]\n",
    "\n",
    "#Grouped the dataset by age range while giving the average of 3 attributes for each age range.\n",
    "print(shortened_diabetic_data3.groupby([\"age\"]).mean())"
   ]
  },
  {
   "cell_type": "code",
   "execution_count": null,
   "id": "4dc653c0",
   "metadata": {},
   "outputs": [],
   "source": []
  }
 ],
 "metadata": {
  "kernelspec": {
   "display_name": "Python 3",
   "language": "python",
   "name": "python3"
  },
  "language_info": {
   "codemirror_mode": {
    "name": "ipython",
    "version": 3
   },
   "file_extension": ".py",
   "mimetype": "text/x-python",
   "name": "python",
   "nbconvert_exporter": "python",
   "pygments_lexer": "ipython3",
   "version": "3.8.8"
  }
 },
 "nbformat": 4,
 "nbformat_minor": 5
}
